{
  "nbformat": 4,
  "nbformat_minor": 0,
  "metadata": {
    "colab": {
      "name": "Copy of imersao-parte2de4.ipynb",
      "provenance": [],
      "private_outputs": true,
      "collapsed_sections": [
        "lbs9dRA8fIk6",
        "VoPwjJQ8iJTh",
        "6-aBKMgMgKfC",
        "4i1VpRRDctfx"
      ]
    },
    "kernelspec": {
      "name": "python3",
      "display_name": "Python 3"
    },
    "accelerator": "GPU"
  },
  "cells": [
    {
      "cell_type": "markdown",
      "metadata": {
        "id": "FKTCwGJ8clLa",
        "colab_type": "text"
      },
      "source": [
        "#NLP(Processamento de Linguagem Natural)\n",
        "![alt text](https://miro.medium.com/max/2428/1*PGB0w1JZslqA-hM0xGrmJw.gif)\n",
        "---\n",
        "No BOOTCAMP CHATBOTS PARA WHATSAPP especializamos os conhecimentos com aprofundamento em Expressões Regulares(Regex)."
      ]
    },
    {
      "cell_type": "markdown",
      "metadata": {
        "id": "lbs9dRA8fIk6",
        "colab_type": "text"
      },
      "source": [
        "## Passo 1 - Tokenization\n",
        "---\n",
        "Ato de separar sentenças, palavras, tweets em pedaços menores(chunks) para maior assertividade de semântica ou remoção de palavras indesejadas."
      ]
    },
    {
      "cell_type": "code",
      "metadata": {
        "id": "loQRn9eGcbZs",
        "colab_type": "code",
        "colab": {}
      },
      "source": [
        "from nltk.tokenize import word_tokenize\n",
        "word_tokenize(\"Olá, me chamo Antônio\")"
      ],
      "execution_count": 0,
      "outputs": []
    },
    {
      "cell_type": "markdown",
      "metadata": {
        "id": "VoPwjJQ8iJTh",
        "colab_type": "text"
      },
      "source": [
        "## Passo 2 - Bag-of-Words\n",
        "---\n",
        "Contagem de palavras para que o algoritmo encontre a importância de cada token.\n"
      ]
    },
    {
      "cell_type": "code",
      "metadata": {
        "id": "Oq4zsX6XiQ8g",
        "colab_type": "code",
        "colab": {}
      },
      "source": [
        "from nltk.tokenize import word_tokenize\n",
        "from collections import Counter\n",
        "frase = \"Antônio ama programação. Antônio adora Python. Antônio prefere programação orientada a objetos\"\n",
        "Counter(word_tokenize(frase))"
      ],
      "execution_count": 0,
      "outputs": []
    },
    {
      "cell_type": "code",
      "metadata": {
        "id": "geh_CgVXjeG8",
        "colab_type": "code",
        "colab": {}
      },
      "source": [
        "Counter(word_tokenize(frase)).most_common(2)"
      ],
      "execution_count": 0,
      "outputs": []
    },
    {
      "cell_type": "markdown",
      "metadata": {
        "id": "6-aBKMgMgKfC",
        "colab_type": "text"
      },
      "source": [
        "## Passo 3 - Stopwords\n",
        "---\n",
        "Ato de remover palavras indesejadas. Exemplo: artigos ou palavras que não trazem consigo apelo relacionado a gramática ou semântica."
      ]
    },
    {
      "cell_type": "code",
      "metadata": {
        "id": "X1hKVVOipIif",
        "colab_type": "code",
        "colab": {}
      },
      "source": [
        "import nltk\n",
        "nltk.download('stopwords')\n",
        "nltk.download('punkt')\n",
        "\n",
        "from nltk.corpus import stopwords \n",
        "from nltk.tokenize import word_tokenize \n",
        " \n",
        "frase = \"Antônio ama a programação. Antônio adora o Python. Antônio prefere a programação orientada a objetos.\"\n",
        "stopwords = set(stopwords.words('portuguese')) \n",
        "word_tokens = word_tokenize(frase) \n",
        "\n",
        "limpas = [w for w in word_tokens if not w in stopwords] \n",
        "limpas = []\n",
        "\n",
        "for w in word_tokens: \n",
        "    if w not in stopwords: \n",
        "        limpas.append(w) \n",
        "\n",
        "print(word_tokens) \n",
        "print(limpas) "
      ],
      "execution_count": 0,
      "outputs": []
    },
    {
      "cell_type": "markdown",
      "metadata": {
        "id": "DALgE1MlnfjB",
        "colab_type": "text"
      },
      "source": [
        "Obs.: No BOOTCAMP CHATBOTS PARA WHATSAPP executamos todo pipeline NLP, além de aprofundamento no pré-processamento dos textos e diversas outras funções dentro do nltk e outras biblitoecas bastante relevantes."
      ]
    },
    {
      "cell_type": "markdown",
      "metadata": {
        "id": "4i1VpRRDctfx",
        "colab_type": "text"
      },
      "source": [
        "#Criando seu primeiro Chatbot\n",
        "![alt text](https://media2.giphy.com/media/3oz8xxIBYjf8rzCizu/giphy.gif?cid=790b761109f6070eba2f9d273821c8b39448622e41f1250f&rid=giphy.gif)"
      ]
    },
    {
      "cell_type": "code",
      "metadata": {
        "id": "kjv81GHUcuAH",
        "colab_type": "code",
        "colab": {}
      },
      "source": [
        "!pip install chatterbot\n",
        "!pip install chatterbot_corpus"
      ],
      "execution_count": 0,
      "outputs": []
    },
    {
      "cell_type": "code",
      "metadata": {
        "id": "R7Bt3z_-j1dN",
        "colab_type": "code",
        "colab": {}
      },
      "source": [
        "from chatterbot import ChatBot\n",
        "from chatterbot.trainers import ChatterBotCorpusTrainer\n",
        "from chatterbot.trainers import ListTrainer"
      ],
      "execution_count": 0,
      "outputs": []
    },
    {
      "cell_type": "code",
      "metadata": {
        "id": "5q_nynzPkeXt",
        "colab_type": "code",
        "colab": {}
      },
      "source": [
        "chatbot = ChatBot(\"Ananda\")\n",
        "trainer = ChatterBotCorpusTrainer(chatbot)\n",
        "trainer.train(\"chatterbot.corpus.portuguese\")"
      ],
      "execution_count": 0,
      "outputs": []
    },
    {
      "cell_type": "code",
      "metadata": {
        "id": "SpArG4pVlUNn",
        "colab_type": "code",
        "colab": {}
      },
      "source": [
        "while True:\n",
        "  try:\n",
        "      bot_input = chatbot.get_response(input())\n",
        "      print(bot_input)\n",
        "  except:\n",
        "    print(\"Algo deu errado... Tchau!\")"
      ],
      "execution_count": 0,
      "outputs": []
    },
    {
      "cell_type": "markdown",
      "metadata": {
        "id": "-7pl7HNCnHiM",
        "colab_type": "text"
      },
      "source": [
        "No BOOTCAMP CHATBOTS PARA WHATSAPP nos aprofundamos nesta e em outras bibliotecas, ativando por exemplo adaptadores lógicos e armazenamento dos conhecimentos, além da possibilidade de aprendizado contínuo da máquina e outros frameworks."
      ]
    },
    {
      "cell_type": "markdown",
      "metadata": {
        "id": "aWeyH3C7eEIZ",
        "colab_type": "text"
      },
      "source": [
        "# Conectando ao Web Whatsapp - Parte 1\n",
        "---\n",
        "No BOOTCAMP CHATBOTS PARA WHATSAPP nos aprofundamos nas features e capacidades do chatbot(como envio de arquivos/imagens), tanto em API´s e Webhooks, como na escalabilidade/disponibilidade na conexão junto ao Whatsapp Mobile."
      ]
    },
    {
      "cell_type": "markdown",
      "metadata": {
        "id": "ywJuFAx2ebuT",
        "colab_type": "text"
      },
      "source": [
        "Download CHROMEDRIVER.EXE https://drive.google.com/file/d/1ye-iay4TpXbB6zgx4j67cfutQJ0lX1tV/view?usp=sharing\n",
        "\n",
        "ou\n",
        "\n",
        "https://chromedriver.chromium.org/downloads"
      ]
    },
    {
      "cell_type": "code",
      "metadata": {
        "id": "-irB3IOEelA_",
        "colab_type": "code",
        "colab": {}
      },
      "source": [
        "# IMPORTAR AS LIBS\n",
        "import os\n",
        "import time\n",
        "\n",
        "from selenium import webdriver\n",
        "from selenium.webdriver.common.keys import Keys\n",
        "from selenium.webdriver.common.action_chains import ActionChains\n",
        "from selenium.webdriver.chrome.options import Options\n",
        "\n",
        "from chatterbot import ChatBot\n",
        "from chatterbot.trainers import ChatterBotCorpusTrainer\n",
        "from chatterbot.trainers import ListTrainer"
      ],
      "execution_count": 0,
      "outputs": []
    },
    {
      "cell_type": "code",
      "metadata": {
        "id": "ZeNX_8Fhen_l",
        "colab_type": "code",
        "colab": {}
      },
      "source": [
        "#INSTANCIAR CHATBOT\n",
        "chatbot = ChatBot('Ananda')\n",
        "trainer = ChatterBotCorpusTrainer(chatbot)\n",
        "trainer.train('chatterbot.corpus.portuguese')\n",
        "trainerer = ListTrainer(chatbot)\n",
        "\n",
        "# ARMAZENAR DIRETORIO PRINCIPAL EM VARIAVEL\n",
        "dir_path = os.getcwd()"
      ],
      "execution_count": 0,
      "outputs": []
    },
    {
      "cell_type": "code",
      "metadata": {
        "id": "6c4WX9Qgeqzj",
        "colab_type": "code",
        "colab": {}
      },
      "source": [
        "# INICIAR APLICAÇÃO\n",
        "driver = webdriver.Chrome(dir_path+'/chromedriver.exe') \n",
        "driver.get('https://web.whatsapp.com/')\n",
        "driver.implicitly_wait(15)"
      ],
      "execution_count": 0,
      "outputs": []
    },
    {
      "cell_type": "code",
      "metadata": {
        "id": "rLXn8b2qesFU",
        "colab_type": "code",
        "colab": {}
      },
      "source": [
        "# FUNÇÕES BÁSICAS DE COMUNICAÇÃO\n",
        "def pegaConversa():\n",
        "\ttry:\n",
        "\t\tpost = driver.find_elements_by_class_name(\"_12pGw\")\n",
        "\t\tultimo = len(post) - 1\n",
        "\t\ttexto = post[ultimo].find_elements_by_css_selector(\"span.selectable-text\").text\n",
        "\t\treturn texto\n",
        "\texcept:\n",
        "\t\tpass\n",
        "\n",
        "def enviaMensagem(mensagem):\n",
        "\tcaixa_de_texto = driver.find_element_by_class_name('_3u328')\n",
        "\tvalor = \"*Ananda:* \"+str(mensagem)\n",
        "\tfor part in valor.split(\"\\n\"):\n",
        "\t\tcaixa_de_texto.send_keys(part)\n",
        "\t\tActionChains(driver).key_down(keys.SHIFT).key_down(keys.ENTER).key_up(keys.SHIFT).perform()\n",
        "\ttime.sleep(0.5)\n",
        "\tbotao_enviar = driver.find_elements_by_class_name('_3M-N-')\n",
        "\tbotao_enviar.click()\n",
        "\n",
        "def treinar(mensagem):\n",
        "\tresposta = 'Como respondo isso? me ensina, por favor...? utilize ;\"'+str(mensagem)+'\"'\n",
        "\tenviaMensagem(resposta)\n",
        "\tnovo = []\n",
        "\ttry:\n",
        "\t\twhile True:\n",
        "\t\t\tultima = pegaConversa()\n",
        "\t\t\tif ultima == \"!\":\n",
        "\t\t\t\tenviaMensagem(\"Você desativou meu aprendizado.\")\n",
        "\t\t\t\tbreak\n",
        "\t\t\telif ultima.replace(';','') != '' and ultima != mensagem and ultima[0] == \";\" :\n",
        "\t\t\t\tauxiliar = ultima\n",
        "\t\t\t\tprint(mensagem.lower().strip())\n",
        "\t\t\t\tprint(ultima.replace(';','').lower().strip())\n",
        "\t\t\t\tnovo.append(mensagem.lower().strip())\n",
        "\t\t\t\tnovo.append(ultima.replace(';','').lower().strip())\n",
        "\t\t\t\ttrainerer.train(novo)\n",
        "\t\t\t\tenviaMensagem(\"Pronto, aprendi! Obrigada <3\")\n",
        "\t\t\t\tbreak\n",
        "\texcept:\n",
        "\t\tpass"
      ],
      "execution_count": 0,
      "outputs": []
    },
    {
      "cell_type": "code",
      "metadata": {
        "id": "tJMXZkaFeuKY",
        "colab_type": "code",
        "colab": {}
      },
      "source": [
        "# WIKIPEDIA\n",
        "import wikipedia\n",
        "wikipedia.set_lang('pt')\n",
        "def wiki():\n",
        "  try:\n",
        "    busca = str(pegaConversa().strip().lower()[2:])\n",
        "    mensagem = '{}'.format(wikipedia.summary(busca))\n",
        "    enviaMensagem(mensagem)\n",
        "  except: I-9\n",
        "  \n",
        "    enviaMensagem('Não encontrei nada relevante para \"{}\" na Wikipedia em português.'.format(busca))"
      ],
      "execution_count": 0,
      "outputs": []
    }
  ]
}